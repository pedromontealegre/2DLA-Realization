{
 "cells": [
  {
   "cell_type": "code",
   "execution_count": null,
   "metadata": {
    "scrolled": false
   },
   "outputs": [],
   "source": [
    "import matplotlib.pyplot as plt\n",
    "import networkx as nx\n",
    "import numpy as np\n",
    "\n",
    "from matplotlib import animation, rc\n",
    "from IPython.display import HTML\n",
    "%matplotlib inline"
   ]
  },
  {
   "cell_type": "code",
   "execution_count": null,
   "metadata": {
    "scrolled": false
   },
   "outputs": [],
   "source": [
    "def grid_neighbors(i,j):\n",
    "    return(set([str(i)+\",\"+str(j-1),\n",
    "            str(i)+\",\"+str(j+1),\n",
    "            str(i+1)+\",\"+str(j),\n",
    "            str(i-1)+\",\"+str(j)]))"
   ]
  },
  {
   "cell_type": "code",
   "execution_count": null,
   "metadata": {
    "scrolled": false
   },
   "outputs": [],
   "source": [
    "def Qpaths(i,j,k):\n",
    "    if(k==1):\n",
    "        return(set([str(i-3)+\",\"+str(j),\n",
    "                str(i-2)+\",\"+str(j),\n",
    "                str(i-2)+\",\"+str(j+1),\n",
    "                str(i-1)+\",\"+str(j),\n",
    "                str(i-1)+\",\"+str(j+1)]))\n",
    "    if(k==2):\n",
    "        return(set([str(i-2)+\",\"+str(j),\n",
    "                str(i-1)+\",\"+str(j),\n",
    "                str(i-1)+\",\"+str(j+1),\n",
    "                str(i)+\",\"+str(j-1)]))\n",
    "    if(k==3):\n",
    "        return(set([\n",
    "            str(i)+\",\"+str(j-3),\n",
    "            str(i)+\",\"+str(j-2),\n",
    "            str(i)+\",\"+str(j-1),\n",
    "            str(i+1)+\",\"+str(j-2),\n",
    "            str(i+1)+\",\"+str(j-1)]))\n",
    "    if(k==4):\n",
    "        return(set([str(i)+\",\"+str(j-2),\n",
    "                str(i)+\",\"+str(j-1),\n",
    "                str(i+1)+\",\"+str(j-1),\n",
    "                str(i-1)+\",\"+str(j)]))"
   ]
  },
  {
   "cell_type": "code",
   "execution_count": null,
   "metadata": {
    "scrolled": false
   },
   "outputs": [],
   "source": [
    "def dependency_graph(F,verbose=False):\n",
    "    particles = []\n",
    "    N,M = F.shape\n",
    "\n",
    "    for i in range(N):\n",
    "        for j in range(M):\n",
    "            if(F[i,j]==1):\n",
    "                particles.append(str(i)+\",\"+str(j))\n",
    "\n",
    "    floor = [str(N-1)+\",\"+str(i) for i in range(M)]\n",
    "    rest = list(set(particles).difference(set(floor)))\n",
    "    \n",
    "    G = nx.DiGraph()\n",
    "    G.add_nodes_from(particles)\n",
    "    N,M = F.shape\n",
    "    for node1p in G.nodes:\n",
    "        node1 =  [int(i) for i in node1p.split(\",\")]\n",
    "        for node2p in G.nodes:\n",
    "            node2 =  [int(i) for i in node2p.split(\",\")]\n",
    "            if(node1[0]>node2[0] and node1[1]>node2[1]):\n",
    "                G.add_edge(node1p,node2p)\n",
    "            if(node1[0]==N-1 and node2[0]!=N-1):\n",
    "                G.add_edge(node1p,node2p)\n",
    "\n",
    "    flag = 0\n",
    "    iteration = 0\n",
    "    while(flag==0):\n",
    "        iteration += 1\n",
    "        if(verbose):\n",
    "            print(\"\")\n",
    "            print(\"Iteration\",iteration)\n",
    "        flag = 1\n",
    "\n",
    "\n",
    "        Gnew = G.copy()\n",
    "\n",
    "        #Rule 1\n",
    "        for node1 in G.subgraph(rest):\n",
    "            i = int(node1.split(\",\")[0])\n",
    "            j = int(node1.split(\",\")[1])\n",
    "            vecPred = grid_neighbors(i,j).intersection(set(G.predecessors(node1)))\n",
    "\n",
    "            if(len(vecPred)==0):\n",
    "                vecPos = grid_neighbors(i,j).intersection(set(G.nodes))\n",
    "                vecPosIter = vecPos.copy()\n",
    "                for node2 in vecPosIter:\n",
    "                    if(node2 in G.successors(node1)):\n",
    "                        for node3 in G.successors(node2):\n",
    "                            vecPos.discard(node3)\n",
    "                        vecPos.discard(node2)\n",
    "                vecPosIter = vecPos.copy()\n",
    "                if(len(vecPos)==0):\n",
    "                    if(verbose):\n",
    "                        print(\"There are no possible neighbors for\", node1, \"so we add a self-loop according to Rule 1.\")\n",
    "                    Gnew.add_edge(node1,node1)\n",
    "                for node2 in vecPosIter:\n",
    "                    vecRem = {node2}.union(G.successors(node2))\n",
    "                    if(vecPos.issubset(vecRem)):\n",
    "                        if(verbose):\n",
    "                            print(\"Adding edge from\", node2, \"to\", node1, \"with Rule 1\")\n",
    "                        Gnew.add_edge(node2,node1)\n",
    "                        flag = 0\n",
    "\n",
    "        #Rule 2\n",
    "        for node1 in G.subgraph(rest):\n",
    "            i = int(node1.split(\",\")[0])\n",
    "            j = int(node1.split(\",\")[1])\n",
    "            aPaths = {1,2,3,4}\n",
    "            for k in range(1,5):\n",
    "                if(len(set(G.predecessors(node1)).intersection(Qpaths(i,j,k)))!=0):\n",
    "                    aPaths.discard(k)\n",
    "            if(len(aPaths)==0):\n",
    "                if(verbose):\n",
    "                    print(\"Adding edge from\", node1, \"to\", node1, \"with Rule 1\")\n",
    "                Gnew.add_edge(node1,node1)\n",
    "            else:\n",
    "                if(verbose):\n",
    "                    print(\"The availables paths of\", node1,\"are\",aPaths)\n",
    "                caminos = Qpaths(i,j,aPaths.pop())\n",
    "                while(len(aPaths)!=0):\n",
    "                    caminos = caminos.intersection(Qpaths(i,j,aPaths.pop()))\n",
    "                if(verbose):\n",
    "                    print(\"and their intersection is\",caminos)\n",
    "            for node2 in caminos:\n",
    "                if(node2 in G.nodes):\n",
    "                    if(verbose):\n",
    "                        print(\"Adding edge from\", node1, \"to\", node2, \"with Rule 1\")\n",
    "                    Gnew.add_edge(node1,node2)\n",
    "\n",
    "\n",
    "\n",
    "        G = Gnew.copy()\n",
    "    return(G)"
   ]
  },
  {
   "cell_type": "code",
   "execution_count": null,
   "metadata": {
    "scrolled": false
   },
   "outputs": [],
   "source": [
    "def random_pattern(N,M,p=0.5):\n",
    "    A = np.random.binomial(1, p, N*M).reshape(N,M)\n",
    "    Z = np.zeros((N,3))\n",
    "    A = np.append(A,Z,axis=1)\n",
    "    A = np.append(Z,A,axis=1)\n",
    "    Z = np.zeros((3,M+6))\n",
    "    A = np.append(Z,A,axis=0)\n",
    "    Z = np.ones((1,M+6))\n",
    "    A = np.append(A,Z,axis=0)\n",
    "    A = np.array(A,dtype=int)\n",
    "    return(A)"
   ]
  },
  {
   "cell_type": "code",
   "execution_count": null,
   "metadata": {
    "scrolled": false
   },
   "outputs": [],
   "source": [
    "def draw_graph(G,F,drawFloor=False):\n",
    "    particles = []\n",
    "    N,M = F.shape\n",
    "\n",
    "    for i in range(N):\n",
    "        for j in range(M):\n",
    "            if(F[i,j]==1):\n",
    "                particles.append(str(i)+\",\"+str(j))\n",
    "\n",
    "    floor = [str(N-1)+\",\"+str(i) for i in range(M)]\n",
    "    rest = list(set(particles).difference(set(floor)))\n",
    "    \n",
    "    temporal = [(y,[int(y.split(\",\")[1]),N-int(y.split(\",\")[0])]) for y in particles]\n",
    "    positions = dict(temporal)\n",
    "    if(drawFloor==True):\n",
    "        nx.draw(G,pos = positions, with_labels=True)\n",
    "    else:\n",
    "        nx.draw(G.subgraph(rest),pos = positions, with_labels=True)\n",
    "    plt.show()"
   ]
  },
  {
   "cell_type": "code",
   "execution_count": null,
   "metadata": {
    "scrolled": false
   },
   "outputs": [],
   "source": [
    "def draw_pattern(F):\n",
    "    Frand = F.copy()\n",
    "    N,M = F.shape\n",
    "    for i in range(N):\n",
    "        for j in range(M):\n",
    "            if(F[i,j]==1):\n",
    "                Frand[i,j] = 30*(0.9+np.random.random())\n",
    "\n",
    "    fig =  plt.figure(figsize=(5,5))\n",
    "    plt.imshow(1-Frand, cmap='gray')\n",
    "    plt.axis(False)\n",
    "    plt.show()"
   ]
  },
  {
   "cell_type": "code",
   "execution_count": null,
   "metadata": {
    "scrolled": false
   },
   "outputs": [],
   "source": [
    "def Realization2DLA(H,verbose=False,drawGraph=False,drawPattern=False):\n",
    "    F = H.copy()\n",
    "    N,M = F.shape\n",
    "    particles = []\n",
    "    for i in range(N):\n",
    "        for j in range(M):\n",
    "            if(F[i,j]==1):\n",
    "                particles.append(str(i)+\",\"+str(j))\n",
    "\n",
    "    floor = [str(N-1)+\",\"+str(i) for i in range(M)]\n",
    "    rest = list(set(particles).difference(set(floor)))\n",
    "\n",
    "    sequence = []\n",
    "    paths = []\n",
    "    G = dependency_graph(F)\n",
    "    while(len(rest)!=0):\n",
    "        Gold = G.copy()\n",
    "        G = dependency_graph(F)\n",
    "        if(drawGraph):\n",
    "            draw_graph(G,F)\n",
    "            print(set(G.edges).difference(set(Gold.edges)))\n",
    "            print(nx.is_directed_acyclic_graph(G))\n",
    "            print(list(nx.simple_cycles(G)))\n",
    "        if(drawPattern):\n",
    "            draw_pattern(F)\n",
    "            \n",
    "        removable_nodes = []\n",
    "        \n",
    "        paths_removable = []\n",
    "\n",
    "        for node1 in G.subgraph(rest):\n",
    "            if(len(list(G.successors(node1)))==0):\n",
    "                i = int(node1.split(\",\")[0])\n",
    "                j = int(node1.split(\",\")[1])\n",
    "                aPaths = {1,2,3,4}\n",
    "                for k in range(1,5):\n",
    "                    if(len((set(rest).union(floor)).intersection(Qpaths(i,j,k)))!=0):\n",
    "                        aPaths.discard(k)\n",
    "                if(len(aPaths)!=0):\n",
    "                        removable_nodes.append(node1)\n",
    "                        paths_removable.append(aPaths.pop())\n",
    "                                                    \n",
    "       \n",
    "        for node in removable_nodes:\n",
    "            Ftemp = F.copy()\n",
    "            i = int(node.split(\",\")[0])\n",
    "            j = int(node.split(\",\")[1])\n",
    "            Ftemp[i,j]=0\n",
    "            Gtemp = dependency_graph(Ftemp)\n",
    "            if(not nx.is_directed_acyclic_graph(Gtemp)):\n",
    "                if(verbose):\n",
    "                    print(\"Removing\", node, \"because its removal creates cycles\")\n",
    "                removable_nodes.remove(node)\n",
    "        \n",
    "        if(verbose):\n",
    "            print(\"Removable nodes:\", removable_nodes)\n",
    "        \n",
    "        if(len(removable_nodes)==0):\n",
    "            print(\"Non realizable pattern\")\n",
    "            return(0,0)\n",
    "        \n",
    "        node = removable_nodes[0]\n",
    "        i = int(node.split(\",\")[0])\n",
    "        j = int(node.split(\",\")[1])\n",
    "        F[i,j]=0\n",
    "        rest.remove(node)\n",
    "        sequence.append(node)\n",
    "        paths.append(paths_removable[0])\n",
    "        #print(node)\n",
    "\n",
    "    sequence.reverse()\n",
    "    paths.reverse()\n",
    "    print(\"Realizable pattern\")\n",
    "    return(sequence,paths)"
   ]
  },
  {
   "cell_type": "code",
   "execution_count": null,
   "metadata": {},
   "outputs": [],
   "source": [
    "def particle_adjacency_graph(F,verbose=False, drawGraph = False):\n",
    "    particles = []\n",
    "    N,M = F.shape\n",
    "    \n",
    "    for i in range(N):\n",
    "        for j in range(M):\n",
    "            if(F[i,j]==1):\n",
    "                particles.append(str(i)+\",\"+str(j))\n",
    "            \n",
    "    G = nx.Graph()        \n",
    "    G.add_nodes_from(particles)\n",
    "\n",
    "    for node1 in G.nodes:\n",
    "        for node2 in G.nodes:\n",
    "            i = int(node2.split(\",\")[0])\n",
    "            j = int(node2.split(\",\")[1])\n",
    "            if node1 in grid_neighbors(i,j):\n",
    "                if(verbose == True):\n",
    "                    print(\"Agregando arista entre\",node1, \"y\", node2)\n",
    "                G.add_edge(node1,node2)\n",
    "    if(verbose == True):\n",
    "        print(G.edges())\n",
    "    \n",
    "    if(drawGraph==True):\n",
    "        temporal = [(y,[int(y.split(\",\")[1]),N-int(y.split(\",\")[0])]) for y in particles]\n",
    "        positions = dict(temporal)\n",
    "        nx.draw(G,pos = positions, with_labels=True)\n",
    "    \n",
    "    return(G)"
   ]
  },
  {
   "cell_type": "code",
   "execution_count": null,
   "metadata": {
    "scrolled": false
   },
   "outputs": [],
   "source": [
    "def update():\n",
    "    if(step[0] < len(sequence)):\n",
    "        Node = [int(i)-2 for i in sequence[step[0]].split(\",\")]\n",
    "        NodeFin = [int(i) for i in sequence[step[0]].split(\",\")]\n",
    "        if(Pos[0] < Node[0]):\n",
    "            F[Pos[0],Pos[1]] = 0\n",
    "            Pos[0] += 1\n",
    "            F[Pos[0],Pos[1]] = 2\n",
    "        elif(Pos[1]<Node[1]):\n",
    "            F[Pos[0],Pos[1]] = 0\n",
    "            Pos[1] += 1\n",
    "            F[Pos[0],Pos[1]] = 2      \n",
    "        else: \n",
    "            if(Pos == NodeFin):\n",
    "                F[Pos[0],Pos[1]] = 1\n",
    "                Pos[0] = 0\n",
    "                Pos[1] = 0\n",
    "                F[Pos[0],Pos[1]] = 2\n",
    "                step[0] += 1\n",
    "            else:\n",
    "                if(paths[step[0]]==1):\n",
    "                    if(Pos==Node):\n",
    "                        F[Pos[0],Pos[1]] = 0\n",
    "                        Pos[1] += 1\n",
    "                        F[Pos[0],Pos[1]] = 3\n",
    "                    elif(Pos[0]==Node[0] and Pos[1]==Node[1]+1):\n",
    "                        F[Pos[0],Pos[1]] = 0\n",
    "                        Pos[1] += 1\n",
    "                        F[Pos[0],Pos[1]] = 3\n",
    "                    elif(Pos[0]==Node[0] and Pos[1]==NodeFin[1]):\n",
    "                        F[Pos[0],Pos[1]] = 0\n",
    "                        Pos[0] += 1\n",
    "                        F[Pos[0],Pos[1]] = 3\n",
    "                    else:\n",
    "                        F[Pos[0],Pos[1]] = 0\n",
    "                        Pos[0] += 1\n",
    "                        F[Pos[0],Pos[1]] = 3\n",
    "                if(paths[step[0]]==2):\n",
    "                    if(Pos==Node):\n",
    "                        F[Pos[0],Pos[1]] = 0\n",
    "                        Pos[1] += 1\n",
    "                        F[Pos[0],Pos[1]] = 4\n",
    "                    elif(Pos[0]==Node[0] and Pos[1]==Node[1]+1):\n",
    "                        F[Pos[0],Pos[1]] = 0\n",
    "                        Pos[0] += 1\n",
    "                        F[Pos[0],Pos[1]] = 4\n",
    "                    elif(Pos[0]==Node[0]+1 and Pos[1]==Node[1]+1):\n",
    "                        F[Pos[0],Pos[1]] = 0\n",
    "                        Pos[1] += 1\n",
    "                        F[Pos[0],Pos[1]] = 4\n",
    "                    else:\n",
    "                        F[Pos[0],Pos[1]] = 0\n",
    "                        Pos[0] += 1\n",
    "                        F[Pos[0],Pos[1]] = 4\n",
    "                if(paths[step[0]]==3):\n",
    "                    if(Pos==Node):\n",
    "                        F[Pos[0],Pos[1]] = 0\n",
    "                        Pos[0] += 1\n",
    "                        F[Pos[0],Pos[1]] = 5\n",
    "                    elif(Pos[0]==Node[0]+1 and Pos[1]==Node[1]):\n",
    "                        F[Pos[0],Pos[1]] = 0\n",
    "                        Pos[0] += 1\n",
    "                        F[Pos[0],Pos[1]] = 5\n",
    "                    elif(Pos[0]==NodeFin[0] and Pos[1]==Node[1]):\n",
    "                        F[Pos[0],Pos[1]] = 0\n",
    "                        Pos[1] += 1\n",
    "                        F[Pos[0],Pos[1]] = 5\n",
    "                    else:\n",
    "                        F[Pos[0],Pos[1]] = 0\n",
    "                        Pos[1] += 1\n",
    "                        F[Pos[0],Pos[1]] = 5\n",
    "                if(paths[step[0]]==4):\n",
    "                    if(Pos==Node):\n",
    "                        F[Pos[0],Pos[1]] = 0\n",
    "                        Pos[0] += 1\n",
    "                        F[Pos[0],Pos[1]] = 6\n",
    "                    elif(Pos[0]==Node[0]+1 and Pos[1]==Node[1]):\n",
    "                        F[Pos[0],Pos[1]] = 0\n",
    "                        Pos[1] += 1\n",
    "                        F[Pos[0],Pos[1]] = 6\n",
    "                    elif(Pos[0]==Node[0]+1 and Pos[1]==Node[1]+1):\n",
    "                        F[Pos[0],Pos[1]] = 0\n",
    "                        Pos[0] += 1\n",
    "                        F[Pos[0],Pos[1]] = 6\n",
    "                    else:\n",
    "                        F[Pos[0],Pos[1]] = 0\n",
    "                        Pos[1] += 1\n",
    "                        F[Pos[0],Pos[1]] = 6"
   ]
  },
  {
   "cell_type": "code",
   "execution_count": null,
   "metadata": {
    "scrolled": false
   },
   "outputs": [],
   "source": [
    "def animate(i):\n",
    "    update()\n",
    "    DLA_plot.set_data(palette[F])\n",
    "    return DLA_plot"
   ]
  },
  {
   "cell_type": "markdown",
   "metadata": {},
   "source": [
    "**Important** The algorithms work only with patterns $F$ that have a margin of 3 unoccupied cells arround the figue.\n",
    "\n",
    "* Function `dependency_graph()` is used to build the dependency graph of a given pattern.\n",
    "* Function `draw_pattern()` produces a figure of the given pattern\n",
    "* Function `draw_graph()` produces a figure with the dependency graph of a given pattern\n",
    "* Function `Realization2DLA()` produces a sequence that realizes a given figure under the 2-DLA dynamics. \n",
    "\n",
    "### Example 1\n"
   ]
  },
  {
   "cell_type": "code",
   "execution_count": null,
   "metadata": {
    "scrolled": false
   },
   "outputs": [],
   "source": [
    "J = np.array([\n",
    "    [0,0,0,0,0,0,0,0,0,0,0,0,0,0,0],\n",
    "    [0,0,0,0,0,0,0,0,0,0,0,0,0,0,0],\n",
    "    [0,0,0,0,0,0,0,0,0,0,0,0,0,0,0],\n",
    "    [0,0,0,0,0,0,0,0,0,0,0,0,0,0,0],\n",
    "    [0,0,0,0,0,0,0,0,1,1,1,1,0,0,0],\n",
    "    [0,0,0,0,0,0,0,0,1,0,0,1,0,0,0],\n",
    "    [0,0,0,0,0,0,0,1,1,0,0,1,0,0,0],\n",
    "    [0,0,0,0,0,1,0,0,0,0,0,1,0,0,0],\n",
    "    [0,0,0,1,1,1,1,1,1,1,1,1,0,0,0],\n",
    "    [0,0,0,1,0,0,0,0,0,0,0,0,0,0,0],\n",
    "    [1,1,1,1,1,1,1,1,1,1,1,1,1,1,1],\n",
    "])\n",
    "draw_pattern(J)"
   ]
  },
  {
   "cell_type": "code",
   "execution_count": null,
   "metadata": {
    "scrolled": false
   },
   "outputs": [],
   "source": [
    "F = J.copy()\n",
    "G = dependency_graph(F)\n",
    "draw_graph(G,F)"
   ]
  },
  {
   "cell_type": "markdown",
   "metadata": {},
   "source": [
    "The following cell verifies that the graph is acyclic."
   ]
  },
  {
   "cell_type": "code",
   "execution_count": null,
   "metadata": {},
   "outputs": [],
   "source": [
    "print(nx.is_directed_acyclic_graph(G))\n",
    "list(nx.simple_cycles(G))"
   ]
  },
  {
   "cell_type": "code",
   "execution_count": null,
   "metadata": {
    "scrolled": false
   },
   "outputs": [],
   "source": [
    "Realization2DLA(F)"
   ]
  },
  {
   "cell_type": "markdown",
   "metadata": {},
   "source": [
    "The following block creates an animation of the realization of the figure under the 2-DLA dynamics"
   ]
  },
  {
   "cell_type": "code",
   "execution_count": null,
   "metadata": {
    "scrolled": false
   },
   "outputs": [],
   "source": [
    "F = J.copy()\n",
    "numPart = sum(sum(F))\n",
    "sequence,paths = Realization2DLA(F)\n",
    "step = [0]\n",
    "Pos = [0,0]\n",
    "F[Pos[0],Pos[1]] = 2\n",
    "palette = np.array([[255, 255, 255],   # black\n",
    "                    [  0,   0,   0],   # white\n",
    "                    [255,   0,   0],   # red\n",
    "                    [255, 255,   0],   # yellow\n",
    "                    [  0, 255,   0],   # green\n",
    "                    [  0, 255, 255],   # cyan\n",
    "                    [  0,   0, 255]])  # red\n",
    "\n",
    "N,M = F.shape\n",
    "Z = np.ones((1,M))\n",
    "F = np.append(np.zeros((N-1,M)),Z,axis=0)\n",
    "F = np.array(F,dtype=int)\n",
    "fig =  plt.figure(figsize=(5,5))\n",
    "DLA_plot = plt.imshow(palette[F])\n",
    "\n",
    "anim = animation.FuncAnimation(fig,animate,frames=numPart*N,interval=50)\n",
    "HTML(anim.to_jshtml())"
   ]
  },
  {
   "cell_type": "markdown",
   "metadata": {},
   "source": [
    "## Example 2\n",
    "\n",
    "The second example is a non-realizable pattern."
   ]
  },
  {
   "cell_type": "code",
   "execution_count": null,
   "metadata": {},
   "outputs": [],
   "source": [
    "J = np.array([\n",
    "    [0,0,0,0,0,0,0,0,0,0,0,0,0],\n",
    "    [0,0,0,0,0,0,0,0,0,0,0,0,0],\n",
    "    [0,0,0,0,0,0,0,0,0,0,0,0,0],\n",
    "    [0,0,0,0,0,0,1,1,1,1,0,0,0],\n",
    "    [0,0,0,0,0,0,1,0,0,1,0,0,0],\n",
    "    [0,0,0,0,0,0,1,0,0,1,0,0,0],\n",
    "    [0,0,0,1,1,1,0,0,0,1,0,0,0],\n",
    "    [0,0,0,1,0,0,0,0,0,1,0,0,0],\n",
    "    [0,0,0,1,0,0,0,0,0,1,0,0,0],\n",
    "    [0,0,0,1,0,0,0,0,0,1,0,0,0],\n",
    "    [1,1,1,1,1,1,1,1,1,1,1,1,1],\n",
    "])\n",
    "draw_pattern(J)"
   ]
  },
  {
   "cell_type": "code",
   "execution_count": null,
   "metadata": {},
   "outputs": [],
   "source": [
    "F = J.copy()\n",
    "G = dependency_graph(F)\n",
    "draw_graph(G,F)"
   ]
  },
  {
   "cell_type": "markdown",
   "metadata": {},
   "source": [
    "It is not realizable as the dependency graph contains cycles."
   ]
  },
  {
   "cell_type": "code",
   "execution_count": null,
   "metadata": {},
   "outputs": [],
   "source": [
    "print(nx.is_directed_acyclic_graph(G))\n",
    "list(nx.simple_cycles(G))"
   ]
  },
  {
   "cell_type": "code",
   "execution_count": null,
   "metadata": {},
   "outputs": [],
   "source": [
    "Realization2DLA(F)"
   ]
  },
  {
   "cell_type": "markdown",
   "metadata": {},
   "source": [
    "## Example 3\n",
    "\n",
    "The third example is a non realizable pattern."
   ]
  },
  {
   "cell_type": "code",
   "execution_count": null,
   "metadata": {},
   "outputs": [],
   "source": [
    "J = np.array([\n",
    "    [0,0,0,0,0,0,0,0,0,0,0,0,0,0,0],\n",
    "    [0,0,0,0,0,0,0,0,0,0,0,0,0,0,0],\n",
    "    [0,0,0,0,0,0,0,0,0,0,0,0,0,0,0],\n",
    "    [0,0,0,0,0,0,0,1,1,1,1,0,0,0,0],\n",
    "    [0,0,0,0,0,0,0,1,0,0,1,0,0,0,0],\n",
    "    [0,0,0,0,0,0,0,1,0,0,1,0,0,0,0],\n",
    "    [0,0,0,0,0,0,0,1,1,0,1,0,0,0,0],\n",
    "    [0,0,0,1,1,1,1,1,0,0,1,0,0,0,0],\n",
    "    [0,0,0,1,0,0,1,0,0,0,1,0,0,0,0],\n",
    "    [0,0,0,1,0,0,0,0,0,0,1,0,0,0,0],\n",
    "    [1,1,1,1,1,1,1,1,1,1,1,1,1,1,1],\n",
    "])\n",
    "draw_pattern(J)"
   ]
  },
  {
   "cell_type": "code",
   "execution_count": null,
   "metadata": {},
   "outputs": [],
   "source": [
    "F = J.copy()\n",
    "G = dependency_graph(F)\n",
    "draw_graph(G,F)"
   ]
  },
  {
   "cell_type": "markdown",
   "metadata": {},
   "source": [
    "In this case the graph is not acyclic, as it contains a self-loop in node 7,7"
   ]
  },
  {
   "cell_type": "code",
   "execution_count": null,
   "metadata": {},
   "outputs": [],
   "source": [
    "print(nx.is_directed_acyclic_graph(G))\n",
    "list(nx.simple_cycles(G))"
   ]
  },
  {
   "cell_type": "code",
   "execution_count": null,
   "metadata": {},
   "outputs": [],
   "source": [
    "Realization2DLA(F)"
   ]
  },
  {
   "cell_type": "markdown",
   "metadata": {},
   "source": [
    "## Example 4\n",
    "\n",
    "Our code also provides a function to create randomized patterns."
   ]
  },
  {
   "cell_type": "code",
   "execution_count": null,
   "metadata": {
    "scrolled": false
   },
   "outputs": [],
   "source": [
    "J = random_pattern(15,9,p=0.75)\n",
    "draw_pattern(J)"
   ]
  },
  {
   "cell_type": "code",
   "execution_count": null,
   "metadata": {},
   "outputs": [],
   "source": [
    "F = J.copy()\n",
    "Realization2DLA(F)"
   ]
  },
  {
   "cell_type": "code",
   "execution_count": null,
   "metadata": {},
   "outputs": [],
   "source": []
  },
  {
   "cell_type": "code",
   "execution_count": null,
   "metadata": {},
   "outputs": [],
   "source": []
  }
 ],
 "metadata": {
  "kernelspec": {
   "display_name": "Python 3",
   "language": "python",
   "name": "python3"
  },
  "language_info": {
   "codemirror_mode": {
    "name": "ipython",
    "version": 3
   },
   "file_extension": ".py",
   "mimetype": "text/x-python",
   "name": "python",
   "nbconvert_exporter": "python",
   "pygments_lexer": "ipython3",
   "version": "3.7.4"
  }
 },
 "nbformat": 4,
 "nbformat_minor": 2
}
